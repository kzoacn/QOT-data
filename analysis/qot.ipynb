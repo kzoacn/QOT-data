{
 "cells": [
  {
   "cell_type": "code",
   "execution_count": 1,
   "metadata": {},
   "outputs": [],
   "source": [
    "alpha=1/2\n",
    "N=511\n",
    "n=4*N\n",
    "an=alpha*n\n",
    "beta=0.95\n",
    "t=30\n",
    "p_e=0.01"
   ]
  },
  {
   "cell_type": "code",
   "execution_count": 2,
   "metadata": {},
   "outputs": [],
   "source": [
    "\"\"\" \n",
    "C=[[0 for i in range(N+2)] for j in range(N+2)]\n",
    "S=[[0 for i in range(N+2)] for j in range(N+2)]\n",
    "C[0][0]=1\n",
    "S[0][0]=1\n",
    "for i in range(1,N+2):\n",
    "    C[i][0]=1\n",
    "    S[i][0]=1\n",
    "    for j in range(1,N+2):\n",
    "        C[i][j]=C[i-1][j-1]+C[i-1][j]\n",
    "        S[i][j]=S[i][j-1]+C[i][j]\n",
    "\"\"\"\n",
    "def p_fail():\n",
    "    p1 = 0 \n",
    "    for i in range(0,ceil(beta*an)):\n",
    "        p1+= binomial(an,i)*p_e**(an-i)*(1-p_e)**i\n",
    "    p2 = 0\n",
    "    \n",
    "    for i in range(0,N+1):\n",
    "        middle_sum = 0 \n",
    "        for j in range(0,i+1):\n",
    "            inner_sum = 0\n",
    "            for k in range(N-t-j,N-i+1):\n",
    "                inner_sum += binomial(N-i,k)\n",
    "            inner_sum /= 2**(N-i)\n",
    "            middle_sum += binomial(i,j)*p_e**(i-j)*(1-p_e)**j * inner_sum\n",
    "        p2 += binomial(n-an,i) * middle_sum \n",
    "    \n",
    "    p2=1-p2/2**(n-an)\n",
    "    \n",
    "    p3 = 0\n",
    "    for i in range(N+1,n-an+1):\n",
    "        inner_sum = 0\n",
    "        for j in range(N-t,N+1):\n",
    "            inner_sum += binomial(N,j)*p_e**(N-j)*(1-p_e)**j\n",
    "        inner_sum *= binomial(n-an,i)\n",
    "        p3+=inner_sum\n",
    "    p3=-p3/2**(n-an)\n",
    "    \n",
    "    return p1+p2+p3\n",
    "\n",
    "def p_check(s,i):\n",
    "    if an-i >= beta*an:\n",
    "        return 1\n",
    "    res = 0\n",
    "    for j in range(ceil(i-(1-beta)*an),i+1):\n",
    "        res+=binomial(i,j)*(1/2**i)\n",
    "    return res\n",
    "\n",
    "def p_bypass(s):\n",
    "    res = 0\n",
    "    for i in range(s+1):\n",
    "        res+=binomial(s,i)*binomial(n-s,an-i)*p_check(s,i)\n",
    "    return res/binomial(n,an)\n",
    "\n",
    "def p_cheat(s,s2):\n",
    "    res = 0\n",
    "    for i in range(2*(N-t)-s-s2,(1-alpha)*n+1):\n",
    "        res += binomial((1-alpha)*n,i)\n",
    "    return (1/2**((1-alpha)*n))*res"
   ]
  },
  {
   "cell_type": "code",
   "execution_count": 3,
   "metadata": {},
   "outputs": [
    {
     "data": {
      "text/plain": [
       "0.00176156863012167"
      ]
     },
     "execution_count": 3,
     "metadata": {},
     "output_type": "execute_result"
    }
   ],
   "source": [
    "p_fail()"
   ]
  },
  {
   "cell_type": "code",
   "execution_count": 4,
   "metadata": {},
   "outputs": [
    {
     "name": "stdout",
     "output_type": "stream",
     "text": [
      "300 1.886766e+24\n",
      "350 9.647453e+15\n",
      "400 3.807919e+12\n",
      "450 3.807919e+12\n",
      "500 3.807919e+12\n",
      "550 3.807919e+12\n",
      "600 3.807919e+12\n",
      "650 3.807919e+12\n",
      "700 3.807919e+12\n",
      "750 3.807919e+12\n",
      "800 3.807919e+12\n",
      "850 3.807919e+12\n",
      "900 3.807919e+12\n",
      "950 3.807919e+12\n",
      "1000 3.807919e+12\n"
     ]
    }
   ],
   "source": [
    "res = 2**10000\n",
    "for s in range(300,an+1,50):\n",
    "    for s2 in range(0,2*(N-t)-s+1,10):\n",
    "        pr=p_bypass(s)*p_cheat(s,s2)\n",
    "        cost = 2**s2 / pr\n",
    "        res=min(res,cost)\n",
    "        #print(s,s2,res.n())\n",
    "    print(s,'%e' % res)"
   ]
  },
  {
   "cell_type": "code",
   "execution_count": null,
   "metadata": {},
   "outputs": [],
   "source": []
  }
 ],
 "metadata": {
  "kernelspec": {
   "display_name": "SageMath 9.3",
   "language": "sage",
   "name": "sagemath"
  },
  "language_info": {
   "codemirror_mode": {
    "name": "ipython",
    "version": 3
   },
   "file_extension": ".py",
   "mimetype": "text/x-python",
   "name": "python",
   "nbconvert_exporter": "python",
   "pygments_lexer": "ipython3",
   "version": "3.7.10"
  }
 },
 "nbformat": 4,
 "nbformat_minor": 5
}
